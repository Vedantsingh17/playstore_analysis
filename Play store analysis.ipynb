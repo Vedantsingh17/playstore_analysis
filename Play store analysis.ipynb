import pandas as pd
import matplotlib.pyplot as plt
import seaborn as sns

#display plots
%matplotlib inline

#loading file
df = pd.read_csv("googleplaystore.csv")

#soe firt rows
df.head()

df.info()

df.describe()

df['Category'].value_counts()

df.drop_duplicates(inplace=True)

# Ensure 'Installs' is string so .str works
df.loc[:,'Installs'] = df['Installs'].astype(str).str.replace('[+,]', '', regex=True)
df = df[df['Installs'].str.isnumeric()]
df['Installs'] = df['Installs'].astype(float)

df.info()

df['Reviews']=df['Reviews'].astype(float)

df.info()

df['Price'] = df['Price'].str.replace('$', '', regex=False).astype(float)

df.info()

df.loc[:,'Reviews'] = pd.to_numeric(df['Reviews'], errors='coerce')
df.loc[:,'Rating'] = pd.to_numeric(df['Rating'], errors='coerce')

df.dropna(inplace=True)

df.describe()

df.info()

df.to_excel("cleaned_app_data.xlsx", index=False)

# Group and sort
top_categories = df.groupby('Category')['Installs'].sum().sort_values(ascending=False).head(10)
top_categories_million = top_categories / 1_000_000  # Scale to millions

top_cat_df = top_categories_million.reset_index()
top_cat_df.columns = ['Category', 'Installs']

# Plot
plt.figure(figsize=(10,6))
sns.barplot(data=top_cat_df, x='Installs', y='Category', hue='Category', palette='viridis', legend=False)
plt.xlabel("Total Installs (in Millions)")
plt.ylabel("App Category")
plt.title("Top 10 App Categories by Installs")
plt.show()

#free vs paid
type_installs=df.groupby('Type')['Installs'].sum()


free_vs_paid=type_installs.reset_index()
free_vs_paid.columns=['Type','Installs']

plt.figure(figsize=(6,6))
sns.barplot(data=free_vs_paid,x='Type',y='Installs',hue='Installs',palette='viridis',legend=False)
plt.xlabel("Type of app (Paid or Free)")
plt.ylabel("Total installs- free vs paid")
plt.title("Free vs Paid")
plt.show()

# Remove rows with missing data for analysis
df_corr = df[['Rating', 'Reviews', 'Installs']].dropna()

# Plot pairplot
sns.pairplot(df_corr)
plt.suptitle("Relationships: Rating, Reviews, Installs", y=1.02)
plt.show()

# Heatmap for correlation
plt.figure(figsize=(6, 4))
sns.heatmap(df_corr.corr(), annot=True, cmap='coolwarm', fmt=".2f")
plt.title("Correlation Matrix")
plt.show()

# Estimate revenue = price * installs (only for paid)
paid_apps = df[df['Type'] == 'Paid'].copy()
paid_apps['Revenue'] = paid_apps['Price'] * paid_apps['Installs']

# Top 10 apps by revenue
top_revenue = paid_apps.sort_values(by='Revenue', ascending=False).head(10)

plt.figure(figsize=(10,6))
sns.barplot(data=top_revenue, x='Revenue', y='App', hue='App', palette='magma', legend=False)

plt.xlabel("Estimated Revenue (USD)")
plt.title("Top 10 Revenue-Generating Paid Apps")
plt.show()

# Export cleaned/updated DataFrame
df.to_csv(r'C:\Users\anant\OneDrive\Desktop\app_analysis\cleaned_app_data_final.csv', index=False, encoding='utf-8')
